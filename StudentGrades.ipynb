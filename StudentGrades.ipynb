{
 "cells": [
  {
   "cell_type": "code",
   "execution_count": 41,
   "id": "65ecb239-4379-4d9c-a247-a968ddd3b3a9",
   "metadata": {},
   "outputs": [
    {
     "data": {
      "text/html": [
       "<div>\n",
       "<style scoped>\n",
       "    .dataframe tbody tr th:only-of-type {\n",
       "        vertical-align: middle;\n",
       "    }\n",
       "\n",
       "    .dataframe tbody tr th {\n",
       "        vertical-align: top;\n",
       "    }\n",
       "\n",
       "    .dataframe thead th {\n",
       "        text-align: right;\n",
       "    }\n",
       "</style>\n",
       "<table border=\"1\" class=\"dataframe\">\n",
       "  <thead>\n",
       "    <tr style=\"text-align: right;\">\n",
       "      <th></th>\n",
       "      <th>Name</th>\n",
       "      <th>Math</th>\n",
       "      <th>Science</th>\n",
       "      <th>Reading</th>\n",
       "      <th>History</th>\n",
       "    </tr>\n",
       "  </thead>\n",
       "  <tbody>\n",
       "    <tr>\n",
       "      <th>0</th>\n",
       "      <td>Adam</td>\n",
       "      <td>11.0</td>\n",
       "      <td>9.0</td>\n",
       "      <td>16.0</td>\n",
       "      <td>13.5</td>\n",
       "    </tr>\n",
       "    <tr>\n",
       "      <th>1</th>\n",
       "      <td>Anna</td>\n",
       "      <td>12.0</td>\n",
       "      <td>11.0</td>\n",
       "      <td>8.5</td>\n",
       "      <td>10.0</td>\n",
       "    </tr>\n",
       "    <tr>\n",
       "      <th>2</th>\n",
       "      <td>James</td>\n",
       "      <td>11.0</td>\n",
       "      <td>18.0</td>\n",
       "      <td>11.5</td>\n",
       "      <td>9.0</td>\n",
       "    </tr>\n",
       "    <tr>\n",
       "      <th>3</th>\n",
       "      <td>Corey</td>\n",
       "      <td>7.0</td>\n",
       "      <td>15.5</td>\n",
       "      <td>11.0</td>\n",
       "      <td>14.0</td>\n",
       "    </tr>\n",
       "    <tr>\n",
       "      <th>4</th>\n",
       "      <td>Alisha</td>\n",
       "      <td>9.5</td>\n",
       "      <td>12.0</td>\n",
       "      <td>10.5</td>\n",
       "      <td>14.0</td>\n",
       "    </tr>\n",
       "    <tr>\n",
       "      <th>5</th>\n",
       "      <td>Jodie</td>\n",
       "      <td>15.0</td>\n",
       "      <td>18.5</td>\n",
       "      <td>7.0</td>\n",
       "      <td>12.0</td>\n",
       "    </tr>\n",
       "    <tr>\n",
       "      <th>6</th>\n",
       "      <td>John</td>\n",
       "      <td>18.0</td>\n",
       "      <td>15.5</td>\n",
       "      <td>11.0</td>\n",
       "      <td>7.5</td>\n",
       "    </tr>\n",
       "  </tbody>\n",
       "</table>\n",
       "</div>"
      ],
      "text/plain": [
       "     Name  Math  Science  Reading  History\n",
       "0    Adam  11.0      9.0     16.0     13.5\n",
       "1    Anna  12.0     11.0      8.5     10.0\n",
       "2   James  11.0     18.0     11.5      9.0\n",
       "3   Corey   7.0     15.5     11.0     14.0\n",
       "4  Alisha   9.5     12.0     10.5     14.0\n",
       "5   Jodie  15.0     18.5      7.0     12.0\n",
       "6    John  18.0     15.5     11.0      7.5"
      ]
     },
     "execution_count": 41,
     "metadata": {},
     "output_type": "execute_result"
    }
   ],
   "source": [
    "import pandas as pd\n",
    "import numpy as np\n",
    "import statistics\n",
    "import math\n",
    "df = pd.read_csv('/home/mariahwarren/student_grades_2024.csv')\n",
    "df"
   ]
  },
  {
   "cell_type": "code",
   "execution_count": 25,
   "id": "85ca290b-6107-4c65-9483-863e2d6ee497",
   "metadata": {},
   "outputs": [
    {
     "name": "stdout",
     "output_type": "stream",
     "text": [
      "Mean of Math: 11.928571428571429\n",
      "Mean of Science: 14.214285714285714\n",
      "Mean of Reading: 10.785714285714286\n",
      "Mean of History: 11.428571428571429\n"
     ]
    }
   ],
   "source": [
    "mean = np.mean(df['Math'])\n",
    "mean2 = np.mean(df['Science'])\n",
    "mean3 = np.mean(df['Reading'])\n",
    "mean4 = np.mean(df['History'])\n",
    "print(f\"Mean of Math: {mean}\")\n",
    "print(f\"Mean of Science: {mean2}\")\n",
    "print(f\"Mean of Reading: {mean3}\")\n",
    "print(f\"Mean of History: {mean4}\")"
   ]
  },
  {
   "cell_type": "code",
   "execution_count": 9,
   "id": "05a31fca-562f-49cf-878a-a583c74869c9",
   "metadata": {},
   "outputs": [
    {
     "name": "stdout",
     "output_type": "stream",
     "text": [
      "Median of Math: 11.0\n"
     ]
    }
   ],
   "source": [
    "median = np.median(df['Math'])\n",
    "print(f\"Median of Math: {median}\")"
   ]
  },
  {
   "cell_type": "code",
   "execution_count": 15,
   "id": "5c84506e-ec4a-4638-ada9-5bdcaaca287c",
   "metadata": {},
   "outputs": [
    {
     "name": "stdout",
     "output_type": "stream",
     "text": [
      "Mode of History: 14.0\n"
     ]
    }
   ],
   "source": [
    "mode = statistics.mode(df['History'])\n",
    "print(f\"Mode of History: {mode}\")"
   ]
  },
  {
   "cell_type": "code",
   "execution_count": 39,
   "id": "a77f4c89-dd51-46c4-937a-1670c49e09e3",
   "metadata": {},
   "outputs": [
    {
     "name": "stdout",
     "output_type": "stream",
     "text": [
      "Correlation:              Math   Science   Reading   History\n",
      "Math     1.000000  0.269494 -0.268562 -0.718358\n",
      "Science  0.269494  1.000000 -0.527606 -0.358688\n",
      "Reading -0.268562 -0.527606  1.000000  0.206794\n",
      "History -0.718358 -0.358688  0.206794  1.000000\n"
     ]
    }
   ],
   "source": [
    "data = {'Math': [11.0, 12.0, 11.0, 7.0, 9.5, 15.0, 18.0], 'Science': [9.0, 11.0, 18.0, 15.5, 12.0, 18.5, 15.5], 'Reading': [16.0, 8.5, 11.5, 11.0, 10.5, 7.0, 11.0], 'History': [13.5, 10.0, 9.0, 14.0, 14.0, 12.0, 7.5]}\n",
    "df2 = pd.DataFrame(data)\n",
    "df2\n",
    "correlation_matrix = df2.corr()\n",
    "print(f\"Correlation: {correlation_matrix}\")"
   ]
  },
  {
   "cell_type": "code",
   "execution_count": 43,
   "id": "68c43eff-a3da-4a31-9282-3f85b8da8524",
   "metadata": {},
   "outputs": [],
   "source": [
    "def desc_stats():\n",
    "    math_grades = [24, 5, 15, 60, 54, 82, 99, 80, 70, 98, 93, 60, 33, 22, 65, 61, 51, 58, 83, 86, 42, 67, 60]\n",
    "    mean = np.mean(math_grades)\n",
    "    median = np.median(math_grades)\n",
    "    mode = statistics.mode(math_grades)\n",
    "    minimum = min(math_grades)\n",
    "    maximum = max(math_grades)\n",
    "    range = maximum - minimum\n",
    "    variance = sum((x - mean) ** 2 for x in math_grades) / len(math_grades)\n",
    "    std_dev = math.sqrt(variance)\n",
    "    print(f\"Mean: {mean}\")\n",
    "    print(f\"Median: {median}\")\n",
    "    print(f\"Mode: {mode}\")\n",
    "    print(f\"Minimum: {minimum}\")\n",
    "    print(f\"Maximum: {maximum}\")\n",
    "    print(f\"Range: {range}\")\n",
    "    print(f\"Variance:{variance}\")\n",
    "    print(f\"Standard Deviation: {std_dev}\")"
   ]
  },
  {
   "cell_type": "code",
   "execution_count": 45,
   "id": "7ce4f25c-cc79-4cdc-951d-2a07750f88b7",
   "metadata": {},
   "outputs": [
    {
     "name": "stdout",
     "output_type": "stream",
     "text": [
      "Mean: 59.47826086956522\n",
      "Median: 60.0\n",
      "Mode: 60\n",
      "Minimum: 5\n",
      "Maximum: 99\n",
      "Range: 94\n",
      "Variance:664.162570888469\n",
      "Standard Deviation: 25.77135174740489\n"
     ]
    }
   ],
   "source": [
    "desc_stats()"
   ]
  },
  {
   "cell_type": "code",
   "execution_count": null,
   "id": "ebe6962d-1744-4e2b-96db-dd5df46f3175",
   "metadata": {},
   "outputs": [],
   "source": []
  }
 ],
 "metadata": {
  "kernelspec": {
   "display_name": "Python 3 (ipykernel)",
   "language": "python",
   "name": "python3"
  },
  "language_info": {
   "codemirror_mode": {
    "name": "ipython",
    "version": 3
   },
   "file_extension": ".py",
   "mimetype": "text/x-python",
   "name": "python",
   "nbconvert_exporter": "python",
   "pygments_lexer": "ipython3",
   "version": "3.12.2"
  }
 },
 "nbformat": 4,
 "nbformat_minor": 5
}
