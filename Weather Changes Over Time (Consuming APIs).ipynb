{
 "cells": [
  {
   "cell_type": "markdown",
   "id": "ec7397bf",
   "metadata": {
    "id": "ec7397bf"
   },
   "source": [
    "# Weather Changes Over Time (Consuming APIs)\n",
    "\n",
    "## Task\n",
    "Utilize the following two APIs to evaluate the changes in temperature for your birthday and city you were born in:\n",
    "* [geocode.xyz](geocode.xyz)\n",
    "* [open-meteo.com](open-meteo.com)\n"
   ]
  },
  {
   "cell_type": "code",
   "execution_count": 115,
   "id": "b25836d9",
   "metadata": {
    "ExecuteTime": {
     "end_time": "2023-02-28T00:37:36.649033Z",
     "start_time": "2023-02-28T00:37:35.420371Z"
    },
    "id": "b25836d9"
   },
   "outputs": [],
   "source": [
    "from datetime import date, datetime, timedelta\n",
    "\n",
    "import requests\n",
    "import pandas as pd\n",
    "import numpy as np\n",
    "import json\n",
    "\n",
    "\n",
    "import seaborn as sns\n",
    "from matplotlib import pyplot as plt\n",
    "from matplotlib.ticker import FormatStrFormatter\n",
    "\n",
    "%matplotlib inline\n",
    "\n",
    "sns.set_palette('muted')\n",
    "sns.set_style('white')"
   ]
  },
  {
   "cell_type": "markdown",
   "id": "cd30d0c3",
   "metadata": {
    "ExecuteTime": {
     "end_time": "2023-02-27T20:30:03.112450Z",
     "start_time": "2023-02-27T20:30:03.106139Z"
    },
    "id": "cd30d0c3"
   },
   "source": [
    "## Question 1: Geocoding A Location\n",
    "\n",
    "> Indented block\n",
    "\n",
    "\n",
    "Write a function that utilizes the [geocode.xyz](geocode.xyz) API to take in a city and country and return the latitude and longitude of that location\n",
    "\n",
    "```\n",
    "def geocode_location(city, country):\n",
    "    # your code\n",
    "    return latitude, longitude\n",
    "```\n",
    "\n",
    "For example:\n",
    "```\n",
    "geocode_location(\"london\", \"united kingdom\")\n",
    "```\n",
    "should return\n",
    "```\n",
    "(51.49742, -0.11534)\n",
    "```"
   ]
  },
  {
   "cell_type": "code",
   "execution_count": 93,
   "id": "e70660d3",
   "metadata": {
    "ExecuteTime": {
     "end_time": "2023-02-27T22:31:12.769895Z",
     "start_time": "2023-02-27T22:31:12.752767Z"
    },
    "id": "e70660d3"
   },
   "outputs": [],
   "source": [
    "# write your solution here\n",
    "def geocode_location(city, country):\n",
    "    url='https://geocode.xyz/'\n",
    "    params={'locate': f'{city},{country}',\n",
    "           'json':1}\n",
    "    r=requests.get(url,params=params)\n",
    "    r=r.json()\n",
    "    latitude=r['latt']\n",
    "    longitude=r['longt']\n",
    "    return latitude,longitude"
   ]
  },
  {
   "cell_type": "code",
   "execution_count": 95,
   "id": "1e93b641-3f48-463c-9e85-5c74c3e123d3",
   "metadata": {},
   "outputs": [
    {
     "data": {
      "text/plain": [
       "('40.75073', '-73.98460')"
      ]
     },
     "execution_count": 95,
     "metadata": {},
     "output_type": "execute_result"
    }
   ],
   "source": [
    "geocode_location('New York City','United States')"
   ]
  },
  {
   "cell_type": "markdown",
   "id": "2f15ce09",
   "metadata": {
    "id": "2f15ce09"
   },
   "source": [
    "## Question 2: Determining Weather Using Date and Location\n",
    "Write a function that utilizes the [open-meteo.com](https://open-meteo.com/) API to take in a date and location and return the 15-day average high and low for the following measurements from the years 1960 to 2022:\n",
    "* `precipitation_sum` (mm): Sum of daily precipitation (including rain, showers and snowfall)\n",
    "* `temperature_2m_max` (°F): Maximum daily air temperature at 2 meters above ground\n",
    "* `temperature_2m_min` (°F): Minimum daily air temperature at 2 meters above ground\n",
    "* `apparent_temperature_max` (°F): Maximum daily apparent temperature\n",
    "* `apparent_temperature_min` (°F): Min daily apparent temperature\n",
    "\n",
    "The function should return the above measurements in a dictionary object with the keys being `\"precipitation_sum\"`, `\"temperature_2m_max\"`, etc. and the values being the 15-day average of the measurements. The 15-day average should be the 7 days preceeding the input date, the input date, and the 7 days following the input date. This will give the results more statistical validity by increasing the number of samples for each measurement.\n",
    "\n",
    "The `get_historical_weather_measurements()` function will include a few different sub-tasks:\n",
    "\n",
    "### Create API Request in Postman/Insomnia\n",
    "Use the following [API Documentation](https://open-meteo.com/en/docs/historical-weather-api#api-documentation) page to create an API request that responds with a JSON object of the measurements listed above. Make sure the response object meets the following:\n",
    "* Temperatue measurements are in Fahrenheit\n",
    "* Precipitation measurements are in inches\n",
    "* Measurements are daily aggregations\n",
    "* 15 day range of weather\n",
    "* JSON format\n",
    "\n",
    "Before writing any code, use Postman/Insomnia to create the API request and take a screenshot of the request/response.\n",
    "\n",
    "#### HINT: How to insert a screenshot\n",
    "1. Take a screenshot and save it to a file.\n",
    "2. Create a markdown cell in your notebook.\n",
    "3. Insert the image into the markdown cell.\n",
    "  * Option 1: Drag the image file into the markdown cell. This embeds the image data directly into your Jupyter notebook.\n",
    "  * Option 2: Move the file into the directory with your notebook file (inside the project folder that you will submit). Add markdown to insert the image: `![alternative text](path-to-image)`\n",
    "\n",
    "### Create API Request Function\n",
    "Convert the request above into a function. The function should take in `latitude`, `longitude`, and `date` as its arguments and return the API response, if successful.\n",
    "\n",
    "```\n",
    "def get_api_response(latitude, longitude, date):\n",
    "    # your code\n",
    "\n",
    "```\n",
    "\n",
    "Use the helper function below for creating a 15-day date range"
   ]
  },
  {
   "cell_type": "code",
   "execution_count": 58,
   "id": "847c1b60",
   "metadata": {
    "ExecuteTime": {
     "end_time": "2023-02-28T00:37:52.984619Z",
     "start_time": "2023-02-28T00:37:52.975626Z"
    },
    "id": "847c1b60"
   },
   "outputs": [],
   "source": [
    "# helper function for 15-day date range\n",
    "def get_date_range(birthday):\n",
    "    return {'start_date': birthday - timedelta(days=7),\n",
    "            'end_date': birthday + timedelta(days=7)\n",
    "           }"
   ]
  },
  {
   "cell_type": "code",
   "execution_count": 82,
   "id": "d632aed1-5823-49c9-b621-7f6805a8822f",
   "metadata": {},
   "outputs": [
    {
     "data": {
      "text/plain": [
       "{'start_date': datetime.date(1998, 5, 5),\n",
       " 'end_date': datetime.date(1998, 5, 19)}"
      ]
     },
     "execution_count": 82,
     "metadata": {},
     "output_type": "execute_result"
    }
   ],
   "source": [
    "get_date_range(date(1998,5,12))"
   ]
  },
  {
   "cell_type": "code",
   "execution_count": 104,
   "id": "fec1e201",
   "metadata": {
    "ExecuteTime": {
     "end_time": "2023-02-28T00:37:55.391271Z",
     "start_time": "2023-02-28T00:37:55.379302Z"
    },
    "id": "fec1e201"
   },
   "outputs": [],
   "source": [
    "# write your solution here\n",
    "def get_api_response(latitude, longitude, date):\n",
    "    url='https://archive-api.open-meteo.com/v1/archive'\n",
    "    params={'latitude': latitude,\n",
    "            'longitude': longitude,\n",
    "            'start_date': \"1998-05-05\",\n",
    "            'end_date': \"1998-05-19\",\n",
    "            'daily': ['temperature_2m_max','temperature_2m_min','apparent_temperature_max','apparent_temperature_min','precipitation_sum'],\n",
    "            'timezone': 'auto',\n",
    "            'temperature_unit': 'fahrenheit',\n",
    "            'precipitation_unit': 'inch'}\n",
    "    r=requests.get(url,params=params)\n",
    "    r=r.json()\n",
    "    return r"
   ]
  },
  {
   "cell_type": "code",
   "execution_count": 106,
   "id": "16739cf4-e2e1-48e3-b369-438c00b3e97d",
   "metadata": {},
   "outputs": [
    {
     "data": {
      "text/plain": [
       "{'latitude': 40.738136,\n",
       " 'longitude': -74.04254,\n",
       " 'generationtime_ms': 0.22995471954345703,\n",
       " 'utc_offset_seconds': -18000,\n",
       " 'timezone': 'America/New_York',\n",
       " 'timezone_abbreviation': 'EST',\n",
       " 'elevation': 57.0,\n",
       " 'daily_units': {'time': 'iso8601',\n",
       "  'temperature_2m_max': '°F',\n",
       "  'temperature_2m_min': '°F',\n",
       "  'apparent_temperature_max': '°F',\n",
       "  'apparent_temperature_min': '°F',\n",
       "  'precipitation_sum': 'inch'},\n",
       " 'daily': {'time': ['1998-05-05',\n",
       "   '1998-05-06',\n",
       "   '1998-05-07',\n",
       "   '1998-05-08',\n",
       "   '1998-05-09',\n",
       "   '1998-05-10',\n",
       "   '1998-05-11',\n",
       "   '1998-05-12',\n",
       "   '1998-05-13',\n",
       "   '1998-05-14',\n",
       "   '1998-05-15',\n",
       "   '1998-05-16',\n",
       "   '1998-05-17',\n",
       "   '1998-05-18',\n",
       "   '1998-05-19'],\n",
       "  'temperature_2m_max': [61.4,\n",
       "   64.5,\n",
       "   65.8,\n",
       "   57.7,\n",
       "   56.5,\n",
       "   55.3,\n",
       "   54.3,\n",
       "   60.5,\n",
       "   61.6,\n",
       "   68.0,\n",
       "   78.9,\n",
       "   81.1,\n",
       "   63.6,\n",
       "   79.9,\n",
       "   83.7],\n",
       "  'temperature_2m_min': [54.0,\n",
       "   54.2,\n",
       "   53.0,\n",
       "   51.9,\n",
       "   52.9,\n",
       "   50.7,\n",
       "   50.4,\n",
       "   50.2,\n",
       "   44.3,\n",
       "   41.8,\n",
       "   46.7,\n",
       "   55.1,\n",
       "   53.5,\n",
       "   50.7,\n",
       "   59.3],\n",
       "  'apparent_temperature_max': [61.0,\n",
       "   64.4,\n",
       "   66.8,\n",
       "   53.3,\n",
       "   51.6,\n",
       "   51.5,\n",
       "   48.8,\n",
       "   54.0,\n",
       "   60.1,\n",
       "   69.8,\n",
       "   83.9,\n",
       "   86.7,\n",
       "   62.8,\n",
       "   79.8,\n",
       "   85.5],\n",
       "  'apparent_temperature_min': [52.0,\n",
       "   53.7,\n",
       "   52.5,\n",
       "   48.2,\n",
       "   48.4,\n",
       "   45.8,\n",
       "   44.8,\n",
       "   42.5,\n",
       "   37.1,\n",
       "   38.4,\n",
       "   43.6,\n",
       "   54.3,\n",
       "   51.7,\n",
       "   48.6,\n",
       "   58.6],\n",
       "  'precipitation_sum': [0.374,\n",
       "   0.406,\n",
       "   0.004,\n",
       "   0.567,\n",
       "   1.709,\n",
       "   0.992,\n",
       "   0.791,\n",
       "   0.024,\n",
       "   0.0,\n",
       "   0.0,\n",
       "   0.0,\n",
       "   0.0,\n",
       "   0.378,\n",
       "   0.0,\n",
       "   0.043]}}"
      ]
     },
     "execution_count": 106,
     "metadata": {},
     "output_type": "execute_result"
    }
   ],
   "source": [
    "get_api_response(40.75073, -73.98460,\"1998-05-12\")"
   ]
  },
  {
   "cell_type": "markdown",
   "id": "e1a83014",
   "metadata": {
    "id": "e1a83014"
   },
   "source": [
    "### Iterating Over Each Year\n",
    "Write a function that iterates through each year between 1960 and 2022 and returns the corresponding JSON response objects containing weather data for each year in a python list.\n",
    "\n",
    "```\n",
    "def get_all_response_objects(start_year, end_year):\n",
    "    # your code\n",
    "```\n"
   ]
  },
  {
   "cell_type": "code",
   "execution_count": 137,
   "id": "0f7dd9ff",
   "metadata": {
    "ExecuteTime": {
     "end_time": "2023-02-28T00:37:55.921045Z",
     "start_time": "2023-02-28T00:37:55.917896Z"
    },
    "id": "0f7dd9ff"
   },
   "outputs": [],
   "source": [
    "# write your solution here\n",
    "def get_all_response_objects(latitude, longitude, birthday):\n",
    "    url='https://archive-api.open-meteo.com/v1/archive'\n",
    "    params={'latitude': latitude,\n",
    "            'longitude': longitude,\n",
    "            'start_date': \"1960-05-05\",\n",
    "            'end_date': \"2022-05-19\",\n",
    "            'daily': ['temperature_2m_max','temperature_2m_min','apparent_temperature_max','apparent_temperature_min','precipitation_sum'],\n",
    "            'timezone': 'auto',\n",
    "            'temperature_unit': 'fahrenheit',\n",
    "            'precipitation_unit': 'inch'}\n",
    "    r=requests.get(url,params=params)\n",
    "    r=r.text\n",
    "    return r"
   ]
  },
  {
   "cell_type": "code",
   "execution_count": 139,
   "id": "e8788510-d07a-47c8-a4bc-c3a6d41e0696",
   "metadata": {},
   "outputs": [],
   "source": [
    "responses=get_all_response_objects(40.75073,-73.98460,\"1998-05-12\")"
   ]
  },
  {
   "cell_type": "markdown",
   "id": "c76bf08c-15ce-4cbf-a79e-5020fe6054f0",
   "metadata": {
    "id": "dd77748a"
   },
   "source": [
    "### Parse JSON Responses & Aggregate Data\n",
    "Write a function that takes the list of JSON response objects from the previous function in as a parameter and returns a pandas DataFrame containing the original input date, the measurements, and the average across the 15 days.\n",
    "```\n",
    "def parse_json_response(responses):\n",
    "    # your code\n",
    "```\n"
   ]
  },
  {
   "cell_type": "code",
   "execution_count": 153,
   "id": "373d4749-fe56-4701-a5e5-f8e2ed71bffc",
   "metadata": {},
   "outputs": [],
   "source": [
    "# write your solution here\n",
    "def parse_json_response(responses):\n",
    "    df=pd.DataFrame(json.loads(responses))\n",
    "    df.drop(['latitude','longitude','generationtime_ms','utc_offset_seconds','timezone','timezone_abbreviation','elevation','daily_units'],axis=1,inplace=True)\n",
    "    df=df.explode('daily')\n",
    "    return df"
   ]
  },
  {
   "cell_type": "code",
   "execution_count": 155,
   "id": "d19b9010-ad8d-441b-96c6-af1757329760",
   "metadata": {},
   "outputs": [
    {
     "data": {
      "text/html": [
       "<div>\n",
       "<style scoped>\n",
       "    .dataframe tbody tr th:only-of-type {\n",
       "        vertical-align: middle;\n",
       "    }\n",
       "\n",
       "    .dataframe tbody tr th {\n",
       "        vertical-align: top;\n",
       "    }\n",
       "\n",
       "    .dataframe thead th {\n",
       "        text-align: right;\n",
       "    }\n",
       "</style>\n",
       "<table border=\"1\" class=\"dataframe\">\n",
       "  <thead>\n",
       "    <tr style=\"text-align: right;\">\n",
       "      <th></th>\n",
       "      <th>daily</th>\n",
       "    </tr>\n",
       "  </thead>\n",
       "  <tbody>\n",
       "    <tr>\n",
       "      <th>time</th>\n",
       "      <td>1960-05-05</td>\n",
       "    </tr>\n",
       "    <tr>\n",
       "      <th>time</th>\n",
       "      <td>1960-05-06</td>\n",
       "    </tr>\n",
       "    <tr>\n",
       "      <th>time</th>\n",
       "      <td>1960-05-07</td>\n",
       "    </tr>\n",
       "    <tr>\n",
       "      <th>time</th>\n",
       "      <td>1960-05-08</td>\n",
       "    </tr>\n",
       "    <tr>\n",
       "      <th>time</th>\n",
       "      <td>1960-05-09</td>\n",
       "    </tr>\n",
       "    <tr>\n",
       "      <th>...</th>\n",
       "      <td>...</td>\n",
       "    </tr>\n",
       "    <tr>\n",
       "      <th>precipitation_sum</th>\n",
       "      <td>0.039</td>\n",
       "    </tr>\n",
       "    <tr>\n",
       "      <th>precipitation_sum</th>\n",
       "      <td>0.272</td>\n",
       "    </tr>\n",
       "    <tr>\n",
       "      <th>precipitation_sum</th>\n",
       "      <td>0.0</td>\n",
       "    </tr>\n",
       "    <tr>\n",
       "      <th>precipitation_sum</th>\n",
       "      <td>0.008</td>\n",
       "    </tr>\n",
       "    <tr>\n",
       "      <th>precipitation_sum</th>\n",
       "      <td>0.547</td>\n",
       "    </tr>\n",
       "  </tbody>\n",
       "</table>\n",
       "<p>135960 rows × 1 columns</p>\n",
       "</div>"
      ],
      "text/plain": [
       "                        daily\n",
       "time               1960-05-05\n",
       "time               1960-05-06\n",
       "time               1960-05-07\n",
       "time               1960-05-08\n",
       "time               1960-05-09\n",
       "...                       ...\n",
       "precipitation_sum       0.039\n",
       "precipitation_sum       0.272\n",
       "precipitation_sum         0.0\n",
       "precipitation_sum       0.008\n",
       "precipitation_sum       0.547\n",
       "\n",
       "[135960 rows x 1 columns]"
      ]
     },
     "execution_count": 155,
     "metadata": {},
     "output_type": "execute_result"
    }
   ],
   "source": [
    "parse_json_response(responses)"
   ]
  },
  {
   "cell_type": "markdown",
   "id": "e96e3981",
   "metadata": {
    "id": "e96e3981"
   },
   "source": [
    "### Combining the Functions\n",
    "Write a function that combines all the above functions into one, where the user inputs their birthday and location and the function returns the pandas DataFrame containing the summary of measurements.\n",
    "\n",
    "```\n",
    "def get_data():\n",
    "    birthday = get_user_birthday()\n",
    "    location = get_user_city_of_birth()\n",
    "    # your code here\n",
    "```\n",
    "\n",
    "The helper functions below can be used for birthday and location input information:"
   ]
  },
  {
   "cell_type": "code",
   "execution_count": 87,
   "id": "554d19ad",
   "metadata": {
    "ExecuteTime": {
     "end_time": "2023-02-28T00:37:56.448620Z",
     "start_time": "2023-02-28T00:37:56.443554Z"
    },
    "id": "554d19ad"
   },
   "outputs": [],
   "source": [
    "# helper functions\n",
    "def get_user_birthday():\n",
    "    birthday = input('Enter your birthday (MM/DD/YYYY): ')\n",
    "    return datetime.strptime(birthday, \"%m/%d/%Y\")\n",
    "\n",
    "def get_user_city_of_birth():\n",
    "    city = input('Enter the city you were born in: ')\n",
    "    country = input('Enter the country you were born in: ')\n",
    "    return city , country"
   ]
  },
  {
   "cell_type": "code",
   "execution_count": 61,
   "id": "8f2a3aec-1b3d-4e06-88f2-39eebc5828dc",
   "metadata": {},
   "outputs": [
    {
     "name": "stdin",
     "output_type": "stream",
     "text": [
      "Enter your birthday (MM/DD/YYYY):  05/12/1998\n"
     ]
    },
    {
     "data": {
      "text/plain": [
       "datetime.datetime(1998, 5, 12, 0, 0)"
      ]
     },
     "execution_count": 61,
     "metadata": {},
     "output_type": "execute_result"
    }
   ],
   "source": [
    "get_user_birthday()"
   ]
  },
  {
   "cell_type": "code",
   "execution_count": 63,
   "id": "641f3d18-2771-45a3-83e1-49193fd4de54",
   "metadata": {},
   "outputs": [
    {
     "name": "stdin",
     "output_type": "stream",
     "text": [
      "Enter the city you were born in:  New York City\n",
      "Enter the country you were born in:  United States of America\n"
     ]
    },
    {
     "data": {
      "text/plain": [
       "('New York City', 'United States of America')"
      ]
     },
     "execution_count": 63,
     "metadata": {},
     "output_type": "execute_result"
    }
   ],
   "source": [
    "get_user_city_of_birth()"
   ]
  },
  {
   "cell_type": "code",
   "execution_count": 177,
   "id": "a7cd8c53",
   "metadata": {
    "ExecuteTime": {
     "end_time": "2023-02-28T00:37:56.588922Z",
     "start_time": "2023-02-28T00:37:56.585684Z"
    },
    "id": "a7cd8c53"
   },
   "outputs": [],
   "source": [
    "# write your solution here\n",
    "def get_data():\n",
    "    birthday=get_user_birthday()\n",
    "    location=get_user_city_of_birth()\n",
    "    latitude=40.75073\n",
    "    longitude=-73.98460\n",
    "    responses=get_all_response_objects(latitude,longitude,birthday)\n",
    "    return parse_json_response(responses)"
   ]
  },
  {
   "cell_type": "markdown",
   "id": "caebdcff",
   "metadata": {
    "id": "caebdcff"
   },
   "source": [
    "Run your function and set it equal to `df`:"
   ]
  },
  {
   "cell_type": "code",
   "execution_count": 179,
   "id": "e430b5df",
   "metadata": {
    "ExecuteTime": {
     "end_time": "2023-02-28T00:37:57.411326Z",
     "start_time": "2023-02-28T00:37:56.840425Z"
    },
    "id": "e430b5df",
    "scrolled": true
   },
   "outputs": [
    {
     "name": "stdin",
     "output_type": "stream",
     "text": [
      "Enter your birthday (MM/DD/YYYY):  05/12/1998\n",
      "Enter the city you were born in:  New York City\n",
      "Enter the country you were born in:  United States of America\n"
     ]
    },
    {
     "data": {
      "text/html": [
       "<div>\n",
       "<style scoped>\n",
       "    .dataframe tbody tr th:only-of-type {\n",
       "        vertical-align: middle;\n",
       "    }\n",
       "\n",
       "    .dataframe tbody tr th {\n",
       "        vertical-align: top;\n",
       "    }\n",
       "\n",
       "    .dataframe thead th {\n",
       "        text-align: right;\n",
       "    }\n",
       "</style>\n",
       "<table border=\"1\" class=\"dataframe\">\n",
       "  <thead>\n",
       "    <tr style=\"text-align: right;\">\n",
       "      <th></th>\n",
       "      <th>daily</th>\n",
       "    </tr>\n",
       "  </thead>\n",
       "  <tbody>\n",
       "    <tr>\n",
       "      <th>time</th>\n",
       "      <td>1960-05-05</td>\n",
       "    </tr>\n",
       "    <tr>\n",
       "      <th>time</th>\n",
       "      <td>1960-05-06</td>\n",
       "    </tr>\n",
       "    <tr>\n",
       "      <th>time</th>\n",
       "      <td>1960-05-07</td>\n",
       "    </tr>\n",
       "    <tr>\n",
       "      <th>time</th>\n",
       "      <td>1960-05-08</td>\n",
       "    </tr>\n",
       "    <tr>\n",
       "      <th>time</th>\n",
       "      <td>1960-05-09</td>\n",
       "    </tr>\n",
       "  </tbody>\n",
       "</table>\n",
       "</div>"
      ],
      "text/plain": [
       "           daily\n",
       "time  1960-05-05\n",
       "time  1960-05-06\n",
       "time  1960-05-07\n",
       "time  1960-05-08\n",
       "time  1960-05-09"
      ]
     },
     "execution_count": 179,
     "metadata": {},
     "output_type": "execute_result"
    }
   ],
   "source": [
    "df = get_data()\n",
    "\n",
    "df.head()"
   ]
  },
  {
   "cell_type": "markdown",
   "id": "242a871e",
   "metadata": {
    "id": "242a871e"
   },
   "source": [
    "## Question 3: Visualizing The Data\n",
    "Plot the DataFrame using `matplotlib`/`seaborn` and write a short summary of your results."
   ]
  },
  {
   "cell_type": "code",
   "execution_count": null,
   "id": "43e099dd",
   "metadata": {
    "ExecuteTime": {
     "end_time": "2023-02-28T00:38:07.414648Z",
     "start_time": "2023-02-28T00:38:07.408238Z"
    },
    "id": "43e099dd"
   },
   "outputs": [],
   "source": [
    "# enter your code here"
   ]
  },
  {
   "cell_type": "markdown",
   "id": "eb6e5a2a",
   "metadata": {
    "id": "eb6e5a2a"
   },
   "source": [
    "### Results Summary:"
   ]
  },
  {
   "cell_type": "markdown",
   "id": "2daf9a84-4466-418b-a75e-d7b6a2a5a5fc",
   "metadata": {
    "id": "5597b0c9"
   },
   "source": [
    "Unfortunately, I wasn't able to convert the indexes in my dataframe to be their own columns with the corresponding data the way I wanted to. Therefore, I'm not able to visualize my results and interpret them."
   ]
  }
 ],
 "metadata": {
  "colab": {
   "provenance": []
  },
  "kernelspec": {
   "display_name": "Python 3 (ipykernel)",
   "language": "python",
   "name": "python3"
  },
  "language_info": {
   "codemirror_mode": {
    "name": "ipython",
    "version": 3
   },
   "file_extension": ".py",
   "mimetype": "text/x-python",
   "name": "python",
   "nbconvert_exporter": "python",
   "pygments_lexer": "ipython3",
   "version": "3.12.2"
  }
 },
 "nbformat": 4,
 "nbformat_minor": 5
}
