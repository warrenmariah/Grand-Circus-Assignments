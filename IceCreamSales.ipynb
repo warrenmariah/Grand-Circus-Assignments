{
 "cells": [
  {
   "cell_type": "code",
   "execution_count": 1,
   "id": "be9e6297-127a-434e-8188-2337c60bf225",
   "metadata": {},
   "outputs": [],
   "source": [
    "import pandas as pd\n",
    "import matplotlib.pyplot as plt\n",
    "import seaborn as sns"
   ]
  },
  {
   "cell_type": "code",
   "execution_count": 9,
   "id": "16fb6053-fdf2-469d-9388-09295112fec4",
   "metadata": {},
   "outputs": [],
   "source": [
    "df = pd.DataFrame({'Daily Sales of Ice Cream': [38, 29, 48, 29, 32, 37, 18, 38, 14, 13, 30, 26, 48, 15, 35, 28, 18, 31, 24, 33, 25, 13, 32, 37, 39, 41, 38, 40, 18, 35, 18, 12, 27, 43, 22, 38, 23, 37, 27, 12, 12, 37, 15, 30, 28, 24, 12, 34, 17, 32, 16, 14, 18, 40, 23, 20, 19, 47, 44, 11, 35, 16, 15, 26, 15, 35, 17, 30, 19, 38, 34, 28, 29, 25, 21, 49, 43, 42, 24, 20, 10, 23, 10, 28, 24, 24, 15, 46, 41, 14, 17, 16, 39, 32, 36, 18, 24, 40, 45, 27, 39, 21, 19, 10, 12, 10, 39, 19, 45, 19, 46, 14, 15, 12, 36, 10, 48, 26, 49, 33, 39, 34, 35, 28, 38, 35, 14, 31, 31, 35, 46, 39, 38, 16, 47, 10, 33, 22, 22, 49, 46, 46, 43, 19, 49, 21, 34, 45, 26, 43, 18, 42, 12, 41, 21, 17, 40, 23, 25, 44, 49, 29, 28, 38, 14, 22, 11, 24, 14, 22, 39, 20, 29, 24, 18, 37, 30, 34, 45, 21, 43, 22, 37, 17, 26, 35, 43, 38, 47, 30, 25, 25, 48, 15, 40, 17, 41, 14, 22, 22, 35, 32, 12, 17, 40, 19, 33, 44, 16, 45, 20, 20, 42, 21, 34, 26, 23, 16, 39, 45, 29, 35, 23, 13, 49, 45, 15, 47, 10, 39, 46, 19, 42, 24, 27, 27, 43, 36, 12, 46, 11, 15, 32, 17, 45, 26, 11, 37, 37, 10, 47, 12, 45, 11, 19, 20, 45, 38, 33, 15, 42, 47, 10, 29, 37, 43, 27, 39, 14, 19, 23, 26, 21, 29, 11, 26, 23, 24, 38, 17, 13, 41, 43, 12, 32, 48, 14, 29, 28, 18, 34, 43, 13, 11, 17, 42, 12, 41, 11, 38, 36, 32, 24, 44, 41, 20, 30, 28, 39, 25, 48, 44, 35, 26, 12, 39, 23, 30, 27, 36, 49, 30, 28, 18, 24, 36, 28, 17, 22, 12, 33, 14, 25, 42, 32, 30, 33, 19, 12, 48, 37, 35, 32, 14, 12, 12, 26, 16, 17, 48, 49, 27, 35, 45, 37, 23, 12, 21, 28, 16, 44, 46, 39, 37, 43]\n",
    "})"
   ]
  },
  {
   "cell_type": "code",
   "execution_count": 11,
   "id": "fd680eef-275e-4a46-b03e-f7bdc5563e06",
   "metadata": {},
   "outputs": [
    {
     "data": {
      "text/html": [
       "<div>\n",
       "<style scoped>\n",
       "    .dataframe tbody tr th:only-of-type {\n",
       "        vertical-align: middle;\n",
       "    }\n",
       "\n",
       "    .dataframe tbody tr th {\n",
       "        vertical-align: top;\n",
       "    }\n",
       "\n",
       "    .dataframe thead th {\n",
       "        text-align: right;\n",
       "    }\n",
       "</style>\n",
       "<table border=\"1\" class=\"dataframe\">\n",
       "  <thead>\n",
       "    <tr style=\"text-align: right;\">\n",
       "      <th></th>\n",
       "      <th>Daily Sales of Ice Cream</th>\n",
       "    </tr>\n",
       "  </thead>\n",
       "  <tbody>\n",
       "    <tr>\n",
       "      <th>0</th>\n",
       "      <td>38</td>\n",
       "    </tr>\n",
       "    <tr>\n",
       "      <th>1</th>\n",
       "      <td>29</td>\n",
       "    </tr>\n",
       "    <tr>\n",
       "      <th>2</th>\n",
       "      <td>48</td>\n",
       "    </tr>\n",
       "    <tr>\n",
       "      <th>3</th>\n",
       "      <td>29</td>\n",
       "    </tr>\n",
       "    <tr>\n",
       "      <th>4</th>\n",
       "      <td>32</td>\n",
       "    </tr>\n",
       "    <tr>\n",
       "      <th>...</th>\n",
       "      <td>...</td>\n",
       "    </tr>\n",
       "    <tr>\n",
       "      <th>360</th>\n",
       "      <td>44</td>\n",
       "    </tr>\n",
       "    <tr>\n",
       "      <th>361</th>\n",
       "      <td>46</td>\n",
       "    </tr>\n",
       "    <tr>\n",
       "      <th>362</th>\n",
       "      <td>39</td>\n",
       "    </tr>\n",
       "    <tr>\n",
       "      <th>363</th>\n",
       "      <td>37</td>\n",
       "    </tr>\n",
       "    <tr>\n",
       "      <th>364</th>\n",
       "      <td>43</td>\n",
       "    </tr>\n",
       "  </tbody>\n",
       "</table>\n",
       "<p>365 rows × 1 columns</p>\n",
       "</div>"
      ],
      "text/plain": [
       "     Daily Sales of Ice Cream\n",
       "0                          38\n",
       "1                          29\n",
       "2                          48\n",
       "3                          29\n",
       "4                          32\n",
       "..                        ...\n",
       "360                        44\n",
       "361                        46\n",
       "362                        39\n",
       "363                        37\n",
       "364                        43\n",
       "\n",
       "[365 rows x 1 columns]"
      ]
     },
     "execution_count": 11,
     "metadata": {},
     "output_type": "execute_result"
    }
   ],
   "source": [
    "df"
   ]
  },
  {
   "cell_type": "code",
   "execution_count": 13,
   "id": "987657ee-596c-4193-a0f8-36559a34173c",
   "metadata": {},
   "outputs": [
    {
     "data": {
      "image/png": "[encoded data removed]",
      "text/plain": [
       "<Figure size 640x480 with 1 Axes>"
      ]
     },
     "metadata": {},
     "output_type": "display_data"
    }
   ],
   "source": [
    "plt.hist(df, bins=5)\n",
    "plt.xlabel('Day (in numbers)')\n",
    "plt.ylabel('Amount of Sales')\n",
    "plt.title('Daily Sales of Ice Cream')\n",
    "plt.show()"
   ]
  },
  {
   "cell_type": "code",
   "execution_count": 15,
   "id": "8975137b-7711-4d1c-abf4-19c7645619fb",
   "metadata": {},
   "outputs": [],
   "source": [
    "data = pd.DataFrame({'Temperature (F)': [57.56, 61.52, 53.42, 59.36, 65.3, 71.78, 66.92, 77.18, 74.12, 64.58],\n",
    "   'Sales': [215, 325, 185, 332, 406, 522, 412, 614, 544, 421]})"
   ]
  },
  {
   "cell_type": "code",
   "execution_count": 17,
   "id": "2c3361a4-ace6-466c-ae11-58212279fbbc",
   "metadata": {},
   "outputs": [
    {
     "data": {
      "text/html": [
       "<div>\n",
       "<style scoped>\n",
       "    .dataframe tbody tr th:only-of-type {\n",
       "        vertical-align: middle;\n",
       "    }\n",
       "\n",
       "    .dataframe tbody tr th {\n",
       "        vertical-align: top;\n",
       "    }\n",
       "\n",
       "    .dataframe thead th {\n",
       "        text-align: right;\n",
       "    }\n",
       "</style>\n",
       "<table border=\"1\" class=\"dataframe\">\n",
       "  <thead>\n",
       "    <tr style=\"text-align: right;\">\n",
       "      <th></th>\n",
       "      <th>Temperature (F)</th>\n",
       "      <th>Sales</th>\n",
       "    </tr>\n",
       "  </thead>\n",
       "  <tbody>\n",
       "    <tr>\n",
       "      <th>0</th>\n",
       "      <td>57.56</td>\n",
       "      <td>215</td>\n",
       "    </tr>\n",
       "    <tr>\n",
       "      <th>1</th>\n",
       "      <td>61.52</td>\n",
       "      <td>325</td>\n",
       "    </tr>\n",
       "    <tr>\n",
       "      <th>2</th>\n",
       "      <td>53.42</td>\n",
       "      <td>185</td>\n",
       "    </tr>\n",
       "    <tr>\n",
       "      <th>3</th>\n",
       "      <td>59.36</td>\n",
       "      <td>332</td>\n",
       "    </tr>\n",
       "    <tr>\n",
       "      <th>4</th>\n",
       "      <td>65.30</td>\n",
       "      <td>406</td>\n",
       "    </tr>\n",
       "    <tr>\n",
       "      <th>5</th>\n",
       "      <td>71.78</td>\n",
       "      <td>522</td>\n",
       "    </tr>\n",
       "    <tr>\n",
       "      <th>6</th>\n",
       "      <td>66.92</td>\n",
       "      <td>412</td>\n",
       "    </tr>\n",
       "    <tr>\n",
       "      <th>7</th>\n",
       "      <td>77.18</td>\n",
       "      <td>614</td>\n",
       "    </tr>\n",
       "    <tr>\n",
       "      <th>8</th>\n",
       "      <td>74.12</td>\n",
       "      <td>544</td>\n",
       "    </tr>\n",
       "    <tr>\n",
       "      <th>9</th>\n",
       "      <td>64.58</td>\n",
       "      <td>421</td>\n",
       "    </tr>\n",
       "  </tbody>\n",
       "</table>\n",
       "</div>"
      ],
      "text/plain": [
       "   Temperature (F)  Sales\n",
       "0            57.56    215\n",
       "1            61.52    325\n",
       "2            53.42    185\n",
       "3            59.36    332\n",
       "4            65.30    406\n",
       "5            71.78    522\n",
       "6            66.92    412\n",
       "7            77.18    614\n",
       "8            74.12    544\n",
       "9            64.58    421"
      ]
     },
     "execution_count": 17,
     "metadata": {},
     "output_type": "execute_result"
    }
   ],
   "source": [
    "data"
   ]
  },
  {
   "cell_type": "code",
   "execution_count": 23,
   "id": "11326300-4cf4-45f4-8c19-80a0605df712",
   "metadata": {},
   "outputs": [
    {
     "data": {
      "image/png": "[encoded data removed]",
      "text/plain": [
       "<Figure size 640x480 with 1 Axes>"
      ]
     },
     "metadata": {},
     "output_type": "display_data"
    },
    {
     "data": {
      "text/plain": [
       "<Figure size 1000x600 with 0 Axes>"
      ]
     },
     "metadata": {},
     "output_type": "display_data"
    }
   ],
   "source": [
    "sns.scatterplot(data=data,x='Temperature (F)',y='Sales')\n",
    "plt.figure(figsize=(10,6))\n",
    "plt.tight_layout()\n",
    "plt.show()"
   ]
  },
  {
   "cell_type": "code",
   "execution_count": 25,
   "id": "0752dadf-5bdf-4046-beda-c62d538b6d83",
   "metadata": {},
   "outputs": [],
   "source": [
    "df2=pd.read_csv('/home/mariahwarren/Monthly Ice Cream Shop Sales by Flavor.csv')"
   ]
  },
  {
   "cell_type": "code",
   "execution_count": 27,
   "id": "938a66de-7580-490a-bded-6dc56666b0ba",
   "metadata": {},
   "outputs": [
    {
     "data": {
      "text/html": [
       "<div>\n",
       "<style scoped>\n",
       "    .dataframe tbody tr th:only-of-type {\n",
       "        vertical-align: middle;\n",
       "    }\n",
       "\n",
       "    .dataframe tbody tr th {\n",
       "        vertical-align: top;\n",
       "    }\n",
       "\n",
       "    .dataframe thead th {\n",
       "        text-align: right;\n",
       "    }\n",
       "</style>\n",
       "<table border=\"1\" class=\"dataframe\">\n",
       "  <thead>\n",
       "    <tr style=\"text-align: right;\">\n",
       "      <th></th>\n",
       "      <th>Month</th>\n",
       "      <th>Vanilla</th>\n",
       "      <th>Chocolate</th>\n",
       "      <th>Strawberry</th>\n",
       "      <th>Neapolitan</th>\n",
       "      <th>Mango</th>\n",
       "      <th>Lime</th>\n",
       "      <th>Total Units</th>\n",
       "      <th>Total Profit</th>\n",
       "    </tr>\n",
       "  </thead>\n",
       "  <tbody>\n",
       "    <tr>\n",
       "      <th>0</th>\n",
       "      <td>1</td>\n",
       "      <td>2500</td>\n",
       "      <td>1500</td>\n",
       "      <td>5200</td>\n",
       "      <td>9200</td>\n",
       "      <td>1200</td>\n",
       "      <td>1500</td>\n",
       "      <td>21100</td>\n",
       "      <td>211000</td>\n",
       "    </tr>\n",
       "    <tr>\n",
       "      <th>1</th>\n",
       "      <td>2</td>\n",
       "      <td>2630</td>\n",
       "      <td>1200</td>\n",
       "      <td>5100</td>\n",
       "      <td>6100</td>\n",
       "      <td>2100</td>\n",
       "      <td>1200</td>\n",
       "      <td>18330</td>\n",
       "      <td>183300</td>\n",
       "    </tr>\n",
       "    <tr>\n",
       "      <th>2</th>\n",
       "      <td>3</td>\n",
       "      <td>2140</td>\n",
       "      <td>1340</td>\n",
       "      <td>4550</td>\n",
       "      <td>9550</td>\n",
       "      <td>3550</td>\n",
       "      <td>1340</td>\n",
       "      <td>22470</td>\n",
       "      <td>224700</td>\n",
       "    </tr>\n",
       "    <tr>\n",
       "      <th>3</th>\n",
       "      <td>4</td>\n",
       "      <td>3400</td>\n",
       "      <td>1130</td>\n",
       "      <td>5870</td>\n",
       "      <td>8870</td>\n",
       "      <td>1870</td>\n",
       "      <td>1130</td>\n",
       "      <td>22270</td>\n",
       "      <td>222700</td>\n",
       "    </tr>\n",
       "    <tr>\n",
       "      <th>4</th>\n",
       "      <td>5</td>\n",
       "      <td>3600</td>\n",
       "      <td>1740</td>\n",
       "      <td>4560</td>\n",
       "      <td>7760</td>\n",
       "      <td>1560</td>\n",
       "      <td>1740</td>\n",
       "      <td>20960</td>\n",
       "      <td>209600</td>\n",
       "    </tr>\n",
       "    <tr>\n",
       "      <th>5</th>\n",
       "      <td>6</td>\n",
       "      <td>2760</td>\n",
       "      <td>1555</td>\n",
       "      <td>4890</td>\n",
       "      <td>7490</td>\n",
       "      <td>1890</td>\n",
       "      <td>1555</td>\n",
       "      <td>20140</td>\n",
       "      <td>201400</td>\n",
       "    </tr>\n",
       "    <tr>\n",
       "      <th>6</th>\n",
       "      <td>7</td>\n",
       "      <td>2980</td>\n",
       "      <td>1120</td>\n",
       "      <td>4780</td>\n",
       "      <td>8980</td>\n",
       "      <td>1780</td>\n",
       "      <td>1120</td>\n",
       "      <td>29550</td>\n",
       "      <td>295500</td>\n",
       "    </tr>\n",
       "    <tr>\n",
       "      <th>7</th>\n",
       "      <td>8</td>\n",
       "      <td>3700</td>\n",
       "      <td>1400</td>\n",
       "      <td>5860</td>\n",
       "      <td>9960</td>\n",
       "      <td>2860</td>\n",
       "      <td>1400</td>\n",
       "      <td>36140</td>\n",
       "      <td>361400</td>\n",
       "    </tr>\n",
       "    <tr>\n",
       "      <th>8</th>\n",
       "      <td>9</td>\n",
       "      <td>3540</td>\n",
       "      <td>1780</td>\n",
       "      <td>6100</td>\n",
       "      <td>8100</td>\n",
       "      <td>2100</td>\n",
       "      <td>1780</td>\n",
       "      <td>23400</td>\n",
       "      <td>234000</td>\n",
       "    </tr>\n",
       "    <tr>\n",
       "      <th>9</th>\n",
       "      <td>10</td>\n",
       "      <td>1990</td>\n",
       "      <td>1890</td>\n",
       "      <td>8300</td>\n",
       "      <td>10300</td>\n",
       "      <td>2300</td>\n",
       "      <td>1890</td>\n",
       "      <td>26670</td>\n",
       "      <td>266700</td>\n",
       "    </tr>\n",
       "    <tr>\n",
       "      <th>10</th>\n",
       "      <td>11</td>\n",
       "      <td>2340</td>\n",
       "      <td>2100</td>\n",
       "      <td>7300</td>\n",
       "      <td>13300</td>\n",
       "      <td>2400</td>\n",
       "      <td>2100</td>\n",
       "      <td>41280</td>\n",
       "      <td>412800</td>\n",
       "    </tr>\n",
       "    <tr>\n",
       "      <th>11</th>\n",
       "      <td>12</td>\n",
       "      <td>2900</td>\n",
       "      <td>1760</td>\n",
       "      <td>7400</td>\n",
       "      <td>14400</td>\n",
       "      <td>1800</td>\n",
       "      <td>1760</td>\n",
       "      <td>30020</td>\n",
       "      <td>300200</td>\n",
       "    </tr>\n",
       "  </tbody>\n",
       "</table>\n",
       "</div>"
      ],
      "text/plain": [
       "    Month  Vanilla  Chocolate  Strawberry  Neapolitan  Mango  Lime  \\\n",
       "0       1     2500       1500        5200        9200   1200  1500   \n",
       "1       2     2630       1200        5100        6100   2100  1200   \n",
       "2       3     2140       1340        4550        9550   3550  1340   \n",
       "3       4     3400       1130        5870        8870   1870  1130   \n",
       "4       5     3600       1740        4560        7760   1560  1740   \n",
       "5       6     2760       1555        4890        7490   1890  1555   \n",
       "6       7     2980       1120        4780        8980   1780  1120   \n",
       "7       8     3700       1400        5860        9960   2860  1400   \n",
       "8       9     3540       1780        6100        8100   2100  1780   \n",
       "9      10     1990       1890        8300       10300   2300  1890   \n",
       "10     11     2340       2100        7300       13300   2400  2100   \n",
       "11     12     2900       1760        7400       14400   1800  1760   \n",
       "\n",
       "    Total Units  Total Profit  \n",
       "0         21100        211000  \n",
       "1         18330        183300  \n",
       "2         22470        224700  \n",
       "3         22270        222700  \n",
       "4         20960        209600  \n",
       "5         20140        201400  \n",
       "6         29550        295500  \n",
       "7         36140        361400  \n",
       "8         23400        234000  \n",
       "9         26670        266700  \n",
       "10        41280        412800  \n",
       "11        30020        300200  "
      ]
     },
     "execution_count": 27,
     "metadata": {},
     "output_type": "execute_result"
    }
   ],
   "source": [
    "df2"
   ]
  },
  {
   "cell_type": "code",
   "execution_count": 29,
   "id": "37f16358-8826-4b8b-a70d-3ed1161342dc",
   "metadata": {},
   "outputs": [
    {
     "data": {
      "text/plain": [
       "<Axes: xlabel='Month', ylabel='Total Units'>"
      ]
     },
     "execution_count": 29,
     "metadata": {},
     "output_type": "execute_result"
    },
    {
     "data": {
      "image/png": "[encoded data removed]",
      "text/plain": [
       "<Figure size 640x480 with 1 Axes>"
      ]
     },
     "metadata": {},
     "output_type": "display_data"
    }
   ],
   "source": [
    "sns.lineplot(data=df2,x='Month',y='Total Units')"
   ]
  },
  {
   "cell_type": "code",
   "execution_count": 31,
   "id": "6f7e1625-902c-422b-9a3c-a70883e891a0",
   "metadata": {},
   "outputs": [
    {
     "data": {
      "text/plain": [
       "<Axes: xlabel='Month', ylabel='Total Profit'>"
      ]
     },
     "execution_count": 31,
     "metadata": {},
     "output_type": "execute_result"
    },
    {
     "data": {
      "image/png": "[encoded data removed]",
      "text/plain": [
       "<Figure size 640x480 with 1 Axes>"
      ]
     },
     "metadata": {},
     "output_type": "display_data"
    }
   ],
   "source": [
    "sns.barplot(data=df2,x='Month',y='Total Profit')"
   ]
  },
  {
   "cell_type": "code",
   "execution_count": null,
   "id": "40d7d383-3da6-474f-a55a-b044fb7a6bc4",
   "metadata": {},
   "outputs": [],
   "source": []
  }
 ],
 "metadata": {
  "kernelspec": {
   "display_name": "Python 3 (ipykernel)",
   "language": "python",
   "name": "python3"
  },
  "language_info": {
   "codemirror_mode": {
    "name": "ipython",
    "version": 3
   },
   "file_extension": ".py",
   "mimetype": "text/x-python",
   "name": "python",
   "nbconvert_exporter": "python",
   "pygments_lexer": "ipython3",
   "version": "3.12.2"
  }
 },
 "nbformat": 4,
 "nbformat_minor": 5
}
